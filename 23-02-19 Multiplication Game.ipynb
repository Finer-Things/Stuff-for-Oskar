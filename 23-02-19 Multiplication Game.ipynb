{
 "cells": [
  {
   "cell_type": "code",
   "execution_count": 1,
   "id": "f9bcdece",
   "metadata": {},
   "outputs": [],
   "source": [
    "from Multiplication_Flash_Card_Practice_Class import *"
   ]
  },
  {
   "cell_type": "code",
   "execution_count": 2,
   "id": "41c8c4d3",
   "metadata": {},
   "outputs": [
    {
     "name": "stdout",
     "output_type": "stream",
     "text": [
      "Game set up with numbers 2 through 9. Use the .play() method to begin playing.\n"
     ]
    }
   ],
   "source": [
    "jackson_game = Times_Table_Game(speed_up_factor = 100)"
   ]
  }
 ],
 "metadata": {
  "kernelspec": {
   "display_name": "Python 3 (ipykernel)",
   "language": "python",
   "name": "python3"
  },
  "language_info": {
   "codemirror_mode": {
    "name": "ipython",
    "version": 3
   },
   "file_extension": ".py",
   "mimetype": "text/x-python",
   "name": "python",
   "nbconvert_exporter": "python",
   "pygments_lexer": "ipython3",
   "version": "3.10.10"
  }
 },
 "nbformat": 4,
 "nbformat_minor": 5
}
