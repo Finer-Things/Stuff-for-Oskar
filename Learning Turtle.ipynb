{
 "cells": [
  {
   "cell_type": "code",
   "execution_count": 1,
   "id": "47304ee3",
   "metadata": {},
   "outputs": [
    {
     "ename": "",
     "evalue": "",
     "output_type": "error",
     "traceback": [
      "\u001b[1;31mThe Kernel crashed while executing code in the the current cell or a previous cell. Please review the code in the cell(s) to identify a possible cause of the failure. Click <a href='https://aka.ms/vscodeJupyterKernelCrash'>here</a> for more info. View Jupyter <a href='command:jupyter.viewOutput'>log</a> for further details."
     ]
    }
   ],
   "source": [
    "import turtle\n",
    "\n",
    "window = turtle.Screen()\n",
    "window.bgcolor(\"light green\")\n",
    "window.title(\"Turtle\")\n",
    "tortuguis = turtle.Turtle()\n",
    "\n",
    "tortuguis.forward(100)"
   ]
  },
  {
   "cell_type": "code",
   "execution_count": 5,
   "id": "1d31d8fe",
   "metadata": {},
   "outputs": [],
   "source": [
    "window = turtle.Screen()\n",
    "window.bgcolor(\"light green\")\n",
    "window.title(\"Turtle\")\n",
    "tortuguis = turtle.Turtle()\n",
    "\n",
    "tortuguis.forward(100)"
   ]
  },
  {
   "cell_type": "code",
   "execution_count": null,
   "id": "f329ce92",
   "metadata": {},
   "outputs": [],
   "source": []
  }
 ],
 "metadata": {
  "kernelspec": {
   "display_name": "Python 3",
   "language": "python",
   "name": "python3"
  },
  "language_info": {
   "codemirror_mode": {
    "name": "ipython",
    "version": 3
   },
   "file_extension": ".py",
   "mimetype": "text/x-python",
   "name": "python",
   "nbconvert_exporter": "python",
   "pygments_lexer": "ipython3",
   "version": "3.11.2"
  },
  "vscode": {
   "interpreter": {
    "hash": "9d4864790b4a08056a74e151bf2add360e1735f36b9bbdd22787e5d381b7718b"
   }
  }
 },
 "nbformat": 4,
 "nbformat_minor": 5
}
