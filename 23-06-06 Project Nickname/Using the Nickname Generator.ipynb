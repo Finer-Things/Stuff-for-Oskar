{
 "cells": [
  {
   "cell_type": "code",
   "execution_count": 41,
   "metadata": {},
   "outputs": [],
   "source": [
    "from NicknameGenerator import *"
   ]
  },
  {
   "cell_type": "code",
   "execution_count": 42,
   "metadata": {},
   "outputs": [
    {
     "name": "stdout",
     "output_type": "stream",
     "text": [
      "Oskar the Dommy Schley\n"
     ]
    }
   ],
   "source": [
    "me = Person(\"Oskar\", \"Schley\")\n",
    "me.say_nickname()"
   ]
  },
  {
   "cell_type": "code",
   "execution_count": 43,
   "metadata": {},
   "outputs": [
    {
     "name": "stdout",
     "output_type": "stream",
     "text": [
      "Nathan the Crabby Schley\n"
     ]
    }
   ],
   "source": [
    "dad = Person(\"Nathan\", \"Schley\")\n",
    "dad.say_nickname()"
   ]
  },
  {
   "cell_type": "code",
   "execution_count": 44,
   "metadata": {},
   "outputs": [
    {
     "name": "stdout",
     "output_type": "stream",
     "text": [
      "Ana the Dommy Schley\n"
     ]
    }
   ],
   "source": [
    "mom = Person(\"Ana\", \"Schley\")\n",
    "mom.say_nickname()"
   ]
  },
  {
   "cell_type": "code",
   "execution_count": 45,
   "metadata": {},
   "outputs": [
    {
     "name": "stdout",
     "output_type": "stream",
     "text": [
      "Lily the Crabby Schley\n"
     ]
    }
   ],
   "source": [
    "thing_1 = Person(\"Lily\", \"Schley\")\n",
    "thing_1.say_nickname()"
   ]
  },
  {
   "cell_type": "code",
   "execution_count": 46,
   "metadata": {},
   "outputs": [
    {
     "name": "stdout",
     "output_type": "stream",
     "text": [
      "Abby the Banana-Face Schley\n"
     ]
    }
   ],
   "source": [
    "thing_2 = Person(\"Abby\", \"Schley\")\n",
    "thing_2.say_nickname()"
   ]
  }
 ],
 "metadata": {
  "kernelspec": {
   "display_name": "Python 3",
   "language": "python",
   "name": "python3"
  },
  "language_info": {
   "codemirror_mode": {
    "name": "ipython",
    "version": 3
   },
   "file_extension": ".py",
   "mimetype": "text/x-python",
   "name": "python",
   "nbconvert_exporter": "python",
   "pygments_lexer": "ipython3",
   "version": "3.11.2"
  },
  "orig_nbformat": 4,
  "vscode": {
   "interpreter": {
    "hash": "9d4864790b4a08056a74e151bf2add360e1735f36b9bbdd22787e5d381b7718b"
   }
  }
 },
 "nbformat": 4,
 "nbformat_minor": 2
}
