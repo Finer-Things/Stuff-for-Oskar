{
 "cells": [
  {
   "cell_type": "code",
   "execution_count": 1,
   "id": "9f7976b5",
   "metadata": {},
   "outputs": [
    {
     "name": "stdout",
     "output_type": "stream",
     "text": [
      "1111\n",
      "<class 'str'>\n"
     ]
    }
   ],
   "source": [
    "my_number = \"11\"\n",
    "print(my_number*2)\n",
    "print(type(my_number))"
   ]
  },
  {
   "cell_type": "code",
   "execution_count": 15,
   "id": "d6f187e2",
   "metadata": {},
   "outputs": [
    {
     "name": "stdout",
     "output_type": "stream",
     "text": [
      "Hello World Hello World Hello World \n"
     ]
    }
   ],
   "source": [
    "print(\"Hello World \"*3)"
   ]
  },
  {
   "cell_type": "code",
   "execution_count": 22,
   "id": "2887821f",
   "metadata": {},
   "outputs": [
    {
     "name": "stdout",
     "output_type": "stream",
     "text": [
      "Hello Mooster \n",
      "\n"
     ]
    }
   ],
   "source": [
    "print(\"hello mooster \\n\".title())"
   ]
  },
  {
   "cell_type": "code",
   "execution_count": 23,
   "id": "86a91fdb",
   "metadata": {},
   "outputs": [
    {
     "name": "stdout",
     "output_type": "stream",
     "text": [
      "Please input a phrase.hello mooma pants!\n",
      "What?! That's a stupid phrase!\n"
     ]
    }
   ],
   "source": [
    "my_string = input(\"Please input a phrase.\")\n",
    "print(\"What?! That's a stupid phrase!\")"
   ]
  },
  {
   "cell_type": "code",
   "execution_count": 24,
   "id": "553492e8",
   "metadata": {},
   "outputs": [
    {
     "name": "stdout",
     "output_type": "stream",
     "text": [
      "eat my banana dust it will go bananas!\n"
     ]
    }
   ],
   "source": [
    "my_phrases = \"eat my banana dust it will go bananas!\"\n",
    "print(my_phrases)"
   ]
  }
 ],
 "metadata": {
  "kernelspec": {
   "display_name": "Python 3",
   "language": "python",
   "name": "python3"
  },
  "language_info": {
   "codemirror_mode": {
    "name": "ipython",
    "version": 3
   },
   "file_extension": ".py",
   "mimetype": "text/x-python",
   "name": "python",
   "nbconvert_exporter": "python",
   "pygments_lexer": "ipython3",
   "version": "3.11.2"
  },
  "vscode": {
   "interpreter": {
    "hash": "9d4864790b4a08056a74e151bf2add360e1735f36b9bbdd22787e5d381b7718b"
   }
  }
 },
 "nbformat": 4,
 "nbformat_minor": 5
}
