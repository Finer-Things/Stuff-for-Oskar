{
 "cells": [
  {
   "cell_type": "code",
   "execution_count": 2,
   "id": "3d8d5d27",
   "metadata": {},
   "outputs": [
    {
     "name": "stdout",
     "output_type": "stream",
     "text": [
      "Welcome to The Tax Man. How many numbers will you be playing with today?\n",
      "Numbers:10\n",
      "[1, 2, 3, 4, 5, 6, 7, 8, 9, 10]\n",
      "Choose your number7\n",
      "Your numbers are [7].\n",
      "The Tax Man's numbers are [1].\n",
      "The remanining numbers are [2, 3, 4, 5, 6, 8, 9, 10].\n",
      "Choose your number9\n",
      "Your numbers are [7, 9].\n",
      "The Tax Man's numbers are [1, 3].\n",
      "The remanining numbers are [2, 4, 5, 6, 8, 10].\n",
      "Choose your number8\n",
      "Your numbers are [7, 8, 9].\n",
      "The Tax Man's numbers are [1, 2, 3, 4].\n",
      "The remanining numbers are [5, 6, 10].\n",
      "Choose your number10\n",
      "Your numbers are [7, 8, 9, 10].\n",
      "The Tax Man's numbers are [1, 2, 3, 4, 5].\n",
      "The remanining numbers are [6].\n",
      "Choose your number6\n",
      "Your numbers are [6, 7, 8, 9, 10], with a sum of 40.\n",
      "The Tax Man's numbers are [1, 2, 3, 4, 5], with a sum of 15.\n"
     ]
    }
   ],
   "source": [
    "print(\"Welcome to The Tax Man. How many numbers will you be playing with today?\")\n",
    "number = int(input(\"Numbers:\"))\n",
    "number_list = list(range(1, number + 1))\n",
    "print(number_list)\n",
    "your_list = []\n",
    "tax_man_list = []\n",
    "while True:\n",
    "    if number_list == []:\n",
    "        break\n",
    "    turn_input = int(input(\"Choose your number\"))\n",
    "    your_list.append(turn_input)\n",
    "    tax_collection = [item for item in number_list if turn_input % item == 0 and item < turn_input]\n",
    "    tax_man_list += tax_collection\n",
    "    number_list = [item for item in number_list if item not in your_list and item not in tax_man_list]\n",
    "    if tax_collection == []:\n",
    "        break\n",
    "    print(f\"Your numbers are {sorted(your_list)}.\")\n",
    "    print(f\"The Tax Man's numbers are {sorted(tax_man_list)}.\")\n",
    "    print(f\"The remanining numbers are {sorted(number_list)}.\")\n",
    "tax_man_list += number_list\n",
    "print(f\"Your numbers are {sorted(your_list)}, with a sum of {sum(your_list)}.\")\n",
    "print(f\"The Tax Man's numbers are {sorted(tax_man_list)}, with a sum of {sum(tax_man_list)}.\")"
   ]
  }
 ],
 "metadata": {
  "kernelspec": {
   "display_name": "Python 3 (ipykernel)",
   "language": "python",
   "name": "python3"
  },
  "language_info": {
   "codemirror_mode": {
    "name": "ipython",
    "version": 3
   },
   "file_extension": ".py",
   "mimetype": "text/x-python",
   "name": "python",
   "nbconvert_exporter": "python",
   "pygments_lexer": "ipython3",
   "version": "3.9.7"
  }
 },
 "nbformat": 4,
 "nbformat_minor": 5
}
