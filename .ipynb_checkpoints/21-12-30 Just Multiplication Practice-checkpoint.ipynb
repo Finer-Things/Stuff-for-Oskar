{
 "cells": [
  {
   "cell_type": "markdown",
   "id": "76e51492-0b1d-42db-9781-a55fb3fc89c6",
   "metadata": {},
   "source": [
    "# Multiplication Practice"
   ]
  },
  {
   "cell_type": "code",
   "execution_count": 3,
   "id": "24946c83-ccbe-4138-b6e8-e2c358de312d",
   "metadata": {},
   "outputs": [
    {
     "name": "stdout",
     "output_type": "stream",
     "text": [
      "1) 5x9= 45\n",
      "Yes! Now you have 1 problems correct.\n",
      "2) 3x3= 9\n",
      "Yes! Now you have 2 problems correct.\n",
      "3) 4x5= 20\n",
      "Yes! Now you have 3 problems correct.\n",
      "4) 2x6= 12\n",
      "Yes! Now you have 4 problems correct.\n",
      "5) 6x7= 42\n",
      "Yes! Now you have 5 problems correct.\n",
      "6) 8x8= 64\n",
      "Yes! Now you have 6 problems correct.\n",
      "7) 2x2= 4\n",
      "Yes! Now you have 7 problems correct.\n",
      "8) 8x9= 72\n",
      "Yes! Now you have 8 problems correct.\n",
      "9) 9x9= 81\n",
      "Yes! Now you have 9 problems correct.\n",
      "10) 2x8= 16\n",
      "Yes! Now you have 10 problems correct.\n",
      "11) 4x6= 24\n",
      "Yes! Now you have 11 problems correct.\n",
      "12) 3x6= 18\n",
      "Yes! Now you have 12 problems correct.\n",
      "13) 3x7= 21\n",
      "Yes! Now you have 13 problems correct.\n",
      "14) 6x6= 36\n",
      "Yes! Now you have 14 problems correct.\n",
      "15) 2x3= 6\n",
      "Yes! Now you have 15 problems correct.\n",
      "16) 2x5= 10\n",
      "Yes! Now you have 16 problems correct.\n",
      "17) 5x8= 40\n",
      "Yes! Now you have 17 problems correct.\n",
      "18) 7x9= 63\n",
      "Yes! Now you have 18 problems correct.\n",
      "19) 5x6= 30\n",
      "Yes! Now you have 19 problems correct.\n",
      "20) 6x8= 49\n",
      "Incorrect, the answer is 48. You still have 19 correct.\n",
      "21) 2x9= 18\n",
      "Yes! Now you have 20 problems correct.\n",
      "22) 7x7= 49\n",
      "Yes! Now you have 21 problems correct.\n",
      "23) 5x7= 35\n",
      "Yes! Now you have 22 problems correct.\n",
      "24) 6x9= 54\n",
      "Yes! Now you have 23 problems correct.\n",
      "25) 4x7= 28\n",
      "Yes! Now you have 24 problems correct.\n",
      "26) 3x9= 27\n",
      "Yes! Now you have 25 problems correct.\n",
      "27) 4x8= 32\n",
      "Yes! Now you have 26 problems correct.\n",
      "28) 3x8= 24\n",
      "Yes! Now you have 27 problems correct.\n",
      "29) 5x5= 25\n",
      "Yes! Now you have 28 problems correct.\n",
      "30) 2x7= 14\n",
      "Yes! Now you have 29 problems correct.\n",
      "31) 3x4= 12\n",
      "Yes! Now you have 30 problems correct.\n",
      "32) 3x5= 15\n",
      "Yes! Now you have 31 problems correct.\n",
      "33) 4x9= 36\n",
      "Yes! Now you have 32 problems correct.\n",
      "34) 7x8= 56\n",
      "Yes! Now you have 33 problems correct.\n",
      "35) 4x4= 16\n",
      "Yes! Now you have 34 problems correct.\n",
      "36) 2x4= 8\n",
      "Yes! Now you have 35 problems correct.\n"
     ]
    }
   ],
   "source": [
    "import random\n",
    "multiplier_list = [2,3,4,5,6,7,8,9]\n",
    "product_list = [(x,y) for x in multiplier_list for y in multiplier_list if x <= y]\n",
    "# print(product_list)\n",
    "random.shuffle(product_list)\n",
    "# print(product_list)\n",
    "# print(random.choice(product_list))\n",
    "\n",
    "correct_count = 0\n",
    "for i, product in enumerate(product_list):\n",
    "    answer = input(f\"{i+1}) {product[0]}x{product[1]}=\")\n",
    "    correct_answer = product[0]*product[1]\n",
    "    if answer == str(correct_answer):\n",
    "        correct_count += 1\n",
    "        print(f\"Yes! Now you have {correct_count} problems correct.\")\n",
    "        \n",
    "    else:\n",
    "        print(f\"Incorrect, the answer is {correct_answer}. You still have {correct_count} correct.\")"
   ]
  },
  {
   "cell_type": "code",
   "execution_count": 2,
   "id": "0de28a38-7729-484f-a424-4d8e4e19e381",
   "metadata": {},
   "outputs": [
    {
     "ename": "AttributeError",
     "evalue": "'str' object has no attribute 'decode'",
     "output_type": "error",
     "traceback": [
      "\u001b[1;31m---------------------------------------------------------------------------\u001b[0m",
      "\u001b[1;31mAttributeError\u001b[0m                            Traceback (most recent call last)",
      "\u001b[1;32m~\\AppData\\Local\\Temp/ipykernel_12072/2408490500.py\u001b[0m in \u001b[0;36m<module>\u001b[1;34m\u001b[0m\n\u001b[0;32m      1\u001b[0m \u001b[0mHEX_STRING\u001b[0m \u001b[1;33m=\u001b[0m \u001b[1;34m\"1234afa25\"\u001b[0m\u001b[1;33m\u001b[0m\u001b[1;33m\u001b[0m\u001b[0m\n\u001b[1;32m----> 2\u001b[1;33m \u001b[0mencoded\u001b[0m \u001b[1;33m=\u001b[0m \u001b[0mHEX_STRING\u001b[0m\u001b[1;33m.\u001b[0m\u001b[0mdecode\u001b[0m\u001b[1;33m(\u001b[0m\u001b[1;34m\"hex\"\u001b[0m\u001b[1;33m)\u001b[0m\u001b[1;33m.\u001b[0m\u001b[0mencode\u001b[0m\u001b[1;33m(\u001b[0m\u001b[1;34m\"base64\"\u001b[0m\u001b[1;33m)\u001b[0m\u001b[1;33m\u001b[0m\u001b[1;33m\u001b[0m\u001b[0m\n\u001b[0m",
      "\u001b[1;31mAttributeError\u001b[0m: 'str' object has no attribute 'decode'"
     ]
    }
   ],
   "source": [
    "HEX_STRING = \"1234afa25\"\n",
    "encoded = HEX_STRING.decode(\"hex\").encode(\"base64\")"
   ]
  },
  {
   "cell_type": "code",
   "execution_count": 3,
   "id": "811804d1-6907-4acd-8728-0161493e1659",
   "metadata": {},
   "outputs": [
    {
     "name": "stdout",
     "output_type": "stream",
     "text": [
      "cafebabe in base64: yv66vg==\n",
      "yv66vg== in hex is: cafebabe\n"
     ]
    }
   ],
   "source": [
    "from base64 import b64encode, b64decode\n",
    "\n",
    "# hex -> base64\n",
    "s = 'cafebabe'\n",
    "b64 = b64encode(bytes.fromhex(s)).decode()\n",
    "print('cafebabe in base64:', b64)\n",
    "\n",
    "# base64 -> hex\n",
    "s2 = b64decode(b64.encode()).hex()\n",
    "print('yv66vg== in hex is:', s2)\n",
    "assert s == s2"
   ]
  },
  {
   "cell_type": "code",
   "execution_count": null,
   "id": "a10d50e9-36c0-4750-83ed-20d9dbc0e92b",
   "metadata": {},
   "outputs": [],
   "source": []
  },
  {
   "cell_type": "code",
   "execution_count": null,
   "id": "148e5479-add2-4b8d-9880-d72757df806f",
   "metadata": {},
   "outputs": [],
   "source": []
  },
  {
   "cell_type": "code",
   "execution_count": null,
   "id": "d5145bbb-6172-4298-8666-ca8bdc90c9df",
   "metadata": {},
   "outputs": [],
   "source": []
  },
  {
   "cell_type": "code",
   "execution_count": null,
   "id": "5a15d12b-1997-4159-8acd-1e493a0fe137",
   "metadata": {},
   "outputs": [],
   "source": []
  },
  {
   "cell_type": "code",
   "execution_count": null,
   "id": "bd66b262-a7e7-4d5b-b714-c8311d014495",
   "metadata": {},
   "outputs": [],
   "source": []
  }
 ],
 "metadata": {
  "kernelspec": {
   "display_name": "Python 3 (ipykernel)",
   "language": "python",
   "name": "python3"
  },
  "language_info": {
   "codemirror_mode": {
    "name": "ipython",
    "version": 3
   },
   "file_extension": ".py",
   "mimetype": "text/x-python",
   "name": "python",
   "nbconvert_exporter": "python",
   "pygments_lexer": "ipython3",
   "version": "3.9.7"
  }
 },
 "nbformat": 4,
 "nbformat_minor": 5
}
