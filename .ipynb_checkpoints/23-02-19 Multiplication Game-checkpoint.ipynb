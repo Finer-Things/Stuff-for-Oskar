{
 "cells": [
  {
   "cell_type": "code",
   "execution_count": 1,
   "id": "f9bcdece",
   "metadata": {},
   "outputs": [],
   "source": [
    "from Multiplication_Flash_Card_Practice_Class import *"
   ]
  },
  {
   "cell_type": "code",
   "execution_count": 2,
   "id": "41c8c4d3",
   "metadata": {},
   "outputs": [
    {
     "name": "stdout",
     "output_type": "stream",
     "text": [
      "Game set up with numbers 2 through 9. Use the .play() method to begin playing.\n"
     ]
    }
   ],
   "source": [
    "jackson_game = Times_Table_Game(speed_up_factor = 100)"
   ]
  },
  {
   "cell_type": "code",
   "execution_count": null,
   "id": "b5d52338",
   "metadata": {},
   "outputs": [
    {
     "name": "stdout",
     "output_type": "stream",
     "text": [
      "There are 36 total questions. This means 36 is the maximum score.\n",
      "Type \"stop\" or \"s\" to terminate the program early.\n",
      "What is 6x3? 18\n",
      "6x3 = 18? .... Correct! Your score is 1.\n",
      "What is 9x7? 63\n",
      "9x7 = 63? .... Correct! Your score is 2.\n",
      "What is 5x3? 15\n",
      "5x3 = 15? .... Correct! Your score is 3.\n",
      "What is 6x6? 36\n",
      "6x6 = 36? .... Correct! Your score is 4.\n",
      "What is 4x4? 16\n",
      "4x4 = 16? .... Correct! Your score is 5.\n",
      "What is 6x5? 30\n",
      "6x5 = 30? .... Correct! Your score is 6.\n",
      "What is 7x7? 49\n",
      "7x7 = 49? .... Correct! Your score is 7.\n"
     ]
    }
   ],
   "source": [
    "jackson_game.play()"
   ]
  },
  {
   "cell_type": "code",
   "execution_count": null,
   "id": "5ab6654f",
   "metadata": {},
   "outputs": [],
   "source": []
  }
 ],
 "metadata": {
  "kernelspec": {
   "display_name": "Python 3 (ipykernel)",
   "language": "python",
   "name": "python3"
  },
  "language_info": {
   "codemirror_mode": {
    "name": "ipython",
    "version": 3
   },
   "file_extension": ".py",
   "mimetype": "text/x-python",
   "name": "python",
   "nbconvert_exporter": "python",
   "pygments_lexer": "ipython3",
   "version": "3.9.7"
  }
 },
 "nbformat": 4,
 "nbformat_minor": 5
}
