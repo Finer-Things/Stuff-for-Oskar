{
 "cells": [
  {
   "cell_type": "code",
   "execution_count": 2,
   "id": "06e60950",
   "metadata": {},
   "outputs": [],
   "source": [
    "from Multiplication_Flash_Card_Practice_Class import *"
   ]
  },
  {
   "cell_type": "code",
   "execution_count": 3,
   "id": "c6eb2b88",
   "metadata": {},
   "outputs": [
    {
     "name": "stdout",
     "output_type": "stream",
     "text": [
      "Game set up with numbers 2 through 9. Use the .play() method to begin playing.\n"
     ]
    }
   ],
   "source": [
    "jackson_game = Times_Table_Game(speed_up_factor = 1)"
   ]
  },
  {
   "cell_type": "code",
   "execution_count": 4,
   "id": "e3a7e8b7",
   "metadata": {},
   "outputs": [
    {
     "name": "stdout",
     "output_type": "stream",
     "text": [
      "There are 36 total questions. This means 36 is the maximum score.\n",
      "Type \"stop\" or \"s\" to terminate the program early.\n",
      "7x9 = 63? .... Correct! Your score is 1.\n",
      "5x8 = 40? .... Correct! Your score is 2.\n",
      "6x8 = 48? .... Correct! Your score is 3.\n",
      "8x7 = 56? .... Correct! Your score is 4.\n",
      "4x2 = 8? .... Correct! Your score is 5.\n",
      "5x7 = 35? .... Correct! Your score is 6.\n",
      "7x7 = 49? .... Correct! Your score is 7.\n",
      "2x3 = 6? .... Correct! Your score is 8.\n",
      "5x6 = 30? .... Correct! Your score is 9.\n",
      "2x6 = 12? .... Correct! Your score is 10.\n",
      "9x5 = 45? .... Correct! Your score is 11.\n",
      "6x4 = 24? .... Correct! Your score is 12.\n",
      "2x5 = 10? .... Correct! Your score is 13.\n",
      "6x9 = 54? .... Correct! Your score is 14.\n",
      "3x9 = 27? .... Correct! Your score is 15.\n",
      "4x8 = 32? .... Correct! Your score is 16.\n",
      "Thanks for playing! \n",
      " Questions Answered: 16 \t Score: 16 \t Accuracy: 100%\n"
     ]
    }
   ],
   "source": [
    "jackson_game.play()\n",
    "\n",
    "\n"
   ]
  }
 ],
 "metadata": {
  "kernelspec": {
   "display_name": "Python 3 (ipykernel)",
   "language": "python",
   "name": "python3"
  },
  "language_info": {
   "codemirror_mode": {
    "name": "ipython",
    "version": 3
   },
   "file_extension": ".py",
   "mimetype": "text/x-python",
   "name": "python",
   "nbconvert_exporter": "python",
   "pygments_lexer": "ipython3",
   "version": "3.10.11"
  }
 },
 "nbformat": 4,
 "nbformat_minor": 5
}
