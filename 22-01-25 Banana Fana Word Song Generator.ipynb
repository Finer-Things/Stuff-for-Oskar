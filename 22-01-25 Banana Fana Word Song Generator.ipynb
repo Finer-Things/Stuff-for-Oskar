{
 "cells": [
  {
   "cell_type": "code",
   "execution_count": 4,
   "id": "1153bb8f",
   "metadata": {},
   "outputs": [
    {
     "name": "stdout",
     "output_type": "stream",
     "text": [
      "What is your name?Nathan\n",
      "***drum roll!***\n",
      "5\n",
      "4\n",
      "3\n",
      "2\n",
      "1\n",
      "Nathan bo bathan\n",
      "banana fanna fo fathan\n",
      "me, my, mo, mathan\n",
      "It's Nathan!\n"
     ]
    }
   ],
   "source": [
    "import time\n",
    "name = input(\"What is your name?\")\n",
    "print(\"***drum roll!***\")\n",
    "for num in range(5):\n",
    "    print(5-num)\n",
    "    time.sleep(1)\n",
    "name = name.lower()\n",
    "s_name = \"\"\n",
    "for (i,letter) in enumerate(name):\n",
    "    if letter in [\"a\", \"e\", \"i\", \"o\", \"u\"]:\n",
    "        s_name = name[i:]\n",
    "        break\n",
    "\n",
    "        \n",
    "print(f\"{name.title()} bo b{s_name}\")\n",
    "time.sleep(1)\n",
    "print(f\"banana fanna fo f{s_name}\")\n",
    "time.sleep(2)\n",
    "print(f\"me, my, mo, m{s_name}\")\n",
    "time.sleep(2)\n",
    "print(f\"It's {name.title()}!\")\n",
    "    "
   ]
  },
  {
   "cell_type": "code",
   "execution_count": null,
   "id": "4b6f94c6",
   "metadata": {},
   "outputs": [],
   "source": [
    "#This is meant to be the same program written with a lambda function at the beginning -- and I can't think of a good way to do it!\n",
    "import time\n",
    "name = input(\"What is your name?\")\n",
    "print(\"***drum roll!***\")\n",
    "for num in range(5):\n",
    "    print(5-num)\n",
    "    time.sleep(1)\n",
    "name = name.lower()\n",
    "s_name = \"\"\n",
    "for (i,letter) in enumerate(name):\n",
    "    if letter in [\"a\", \"e\", \"i\", \"o\", \"u\"]:\n",
    "        s_name = name[i:]\n",
    "        break\n",
    "\n",
    "        \n",
    "print(f\"{name.title()} bo b{s_name}\")\n",
    "time.sleep(1)\n",
    "print(f\"banana fanna fo f{s_name}\")\n",
    "time.sleep(2)\n",
    "print(f\"me, my, mo, m{s_name}\")\n",
    "time.sleep(2)\n",
    "print(f\"It's {name.title()}!\")\n",
    "    "
   ]
  }
 ],
 "metadata": {
  "kernelspec": {
   "display_name": "Python 3 (ipykernel)",
   "language": "python",
   "name": "python3"
  },
  "language_info": {
   "codemirror_mode": {
    "name": "ipython",
    "version": 3
   },
   "file_extension": ".py",
   "mimetype": "text/x-python",
   "name": "python",
   "nbconvert_exporter": "python",
   "pygments_lexer": "ipython3",
   "version": "3.9.7"
  }
 },
 "nbformat": 4,
 "nbformat_minor": 5
}
