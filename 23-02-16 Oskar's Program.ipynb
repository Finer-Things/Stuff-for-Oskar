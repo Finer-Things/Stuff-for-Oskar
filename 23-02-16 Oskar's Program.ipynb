{
 "cells": [
  {
   "cell_type": "code",
   "execution_count": 3,
   "id": "1da6de2a",
   "metadata": {},
   "outputs": [
    {
     "name": "stdout",
     "output_type": "stream",
     "text": [
      "Want to buy a cookie?\n",
      "(Type your answer here.)no!!!!\n",
      "Awwww. :( \n",
      " Sad panda!\n"
     ]
    }
   ],
   "source": [
    "print(\"Want to buy a cookie?\")\n",
    "answer = input(\"(Type your answer here.)\")\n",
    "if answer.lower() == \"yes\":\n",
    "    print(\"Great! $2 million PLEASE!\")p\n",
    "else:\n",
    "    print(\"Awwww. :( \\n Sad panda!\")"
   ]
  },
  {
   "cell_type": "code",
   "execution_count": 6,
   "id": "593839ea",
   "metadata": {},
   "outputs": [
    {
     "name": "stdout",
     "output_type": "stream",
     "text": [
      "How many farts are you going to fart?\n",
      "(Type the answer here.)100\n",
      "What? 100?! P.U. GROSS! That's WAY too many!!!!\n"
     ]
    }
   ],
   "source": [
    "print(\"How many farts are you going to fart?\")\n",
    "answer = input(\"(Type the answer here.)\")\n",
    "if int(answer) >= 10:\n",
    "    print(f\"What? {answer}?! P.U. GROSS! That's WAY too many!!!!\")\n",
    "else: \n",
    "    print(\"At least it's not too stinky.\")"
   ]
  },
  {
   "cell_type": "code",
   "execution_count": 8,
   "id": "cc6505b6",
   "metadata": {},
   "outputs": [
    {
     "name": "stdout",
     "output_type": "stream",
     "text": [
      "8 zaga zaga zaga zaga za!\n"
     ]
    }
   ],
   "source": [
    "print(\"8 zaga zaga zaga zaga za!\")"
   ]
  },
  {
   "cell_type": "code",
   "execution_count": 10,
   "id": "0b181655",
   "metadata": {},
   "outputs": [
    {
     "name": "stdout",
     "output_type": "stream",
     "text": [
      "&yfhudfidgufgujugf!!\n"
     ]
    }
   ],
   "source": [
    "print(\"&yfhudfidgufgujugf!!\")"
   ]
  },
  {
   "cell_type": "code",
   "execution_count": 11,
   "id": "c8d7caf6",
   "metadata": {},
   "outputs": [
    {
     "name": "stdout",
     "output_type": "stream",
     "text": [
      "ski bip bop bip bada ski bop bip bada\n"
     ]
    }
   ],
   "source": [
    "print(\"ski bip bop bip bada ski bop bip bada\")"
   ]
  },
  {
   "cell_type": "code",
   "execution_count": 12,
   "id": "70a4332d",
   "metadata": {},
   "outputs": [
    {
     "name": "stdout",
     "output_type": "stream",
     "text": [
      "&yhfdhuhg&jfjhfduudf7&!!!!!!!!!!!!!!!!!!!!!!!!!!!\n"
     ]
    }
   ],
   "source": [
    "print(\"&yhfdhuhg&jfjhfduudf7&!!!!!!!!!!!!!!!!!!!!!!!!!!!\")"
   ]
  },
  {
   "cell_type": "code",
   "execution_count": 13,
   "id": "c2b61243",
   "metadata": {},
   "outputs": [
    {
     "name": "stdout",
     "output_type": "stream",
     "text": [
      "&!yhfhfh&!gfydthdhgfkdthkfudfhuehf&!yggfrgygyguhgh&!!!!!!!!!!!!!!!!!!!!!!!!!!!!!!!!!!!!!!!!!!!!!!!!!!!!!!!!!!!!!!!!!!!!!!!!!!!!!!!!!!!!!!!!!!!!!!!!!!!!!!!!!!!!!!!!!!!!!!!!!!!!!!!!!!!!!!!!!!!!!!!!!!!!!!!!!!!!!!!!!!!!!!!!!!!!!!!!!!!!!!!!!!!!!!!!!!!!!!!!!!!!!!!!!!!!!!!!!!!!!!!!!!!!!!!!!!!!!!!!!!!!!!!!!!!!!!!!!!!!!!!!!\n"
     ]
    }
   ],
   "source": [
    "print(\"&!yhfhfh&!gfydthdhgfkdthkfudfhuehf&!yggfrgygyguhgh&!!!!!!!!!!!!!!!!!!!!!!!!!!!!!!!!!!!!!!!!!!!!!!!!!!!!!!!!!!!!!!!!!!!!!!!!!!!!!!!!!!!!!!!!!!!!!!!!!!!!!!!!!!!!!!!!!!!!!!!!!!!!!!!!!!!!!!!!!!!!!!!!!!!!!!!!!!!!!!!!!!!!!!!!!!!!!!!!!!!!!!!!!!!!!!!!!!!!!!!!!!!!!!!!!!!!!!!!!!!!!!!!!!!!!!!!!!!!!!!!!!!!!!!!!!!!!!!!!!!!!!!!!\")"
   ]
  },
  {
   "cell_type": "code",
   "execution_count": 14,
   "id": "8a69bd59",
   "metadata": {},
   "outputs": [
    {
     "name": "stdout",
     "output_type": "stream",
     "text": [
      "ahshoobahisaegydsydugyhfyhusghdfydshyufduyfuisdyhuishfuxiyhdsfi7sdydfis6yflduidusdujsdujisdxfuuiodsy8uf8yiyfdjdshfg ytrefrghyuhyfduhayohyao8yur7moobashpoop!!\n"
     ]
    }
   ],
   "source": [
    "print(\"ahshoobahisaegydsydugyhfyhusghdfydshyufduyfuisdyhuishfuxiyhdsfi7sdydfis6yflduidusdujsdujisdxfuuiodsy8uf8yiyfdjdshfg ytrefrghyuhyfduhayohyao8yur7moobashpoop!!\")"
   ]
  },
  {
   "cell_type": "code",
   "execution_count": 15,
   "id": "3a220839",
   "metadata": {},
   "outputs": [
    {
     "name": "stdout",
     "output_type": "stream",
     "text": [
      "moooooobashbashooooooopapa\n"
     ]
    }
   ],
   "source": [
    "print(\"moooooobashbashooooooopapa\")"
   ]
  },
  {
   "cell_type": "code",
   "execution_count": 16,
   "id": "fa8d79da",
   "metadata": {},
   "outputs": [
    {
     "name": "stdout",
     "output_type": "stream",
     "text": [
      "youuuuuuu!neeeeeeeeed!coooooooooooooooookiiiiiiiiiiiieeeeeeeeeeeeeeeeeeeees!!!!!!!!!!!!!!!!!!!!!!!!!!!!!!!!!!!!!!!!!!!!!!!!!!!!!!!!!!!!!!!!!!!!!!!!!!!!!!!!!!!!!!!!!!!!!!!!!!!!!!!!!!!!!!!!!!!!!!!!!!!!!!!!!!!!!!!!!!!!!!!!!!!!!!!!!!!!!!!!!!!!!!!!!!!!!!!!!!!!!!!!!!!!!!!!!!!!!!!!!!!!!!!!!!!!!!!!!!!!!!!!!!!!!!!!!!!!!!!!!!!!!!!!!!!!!!!!!!!!!!!!!!!!!!!!!!!!!!!!!!!!!!!!!!!!!!!!!!!!!!!!!!!!!!!!!!!!!!!!!!!!!!!!!!!!!!!!!!!!!!!!!!!!!!!!!!!!!!!!!!!!!!!!!!!!!!!!!!!!!!!!!!!!!!!!!!!!!!!!!!!!!!!!!!!!!!!!!!!!!!!!!!!!!!!!!!!!!!!!!!!!!!!!!!!!!!!!!!!!!!!!!!!!!!!!!!!!!!!!!!!!!!!!!!!!!!!!!!!!!!!!!!!!!!!!!!!!!!!!!!!!!!!!!!!!!!!!!!!!!!!!!!!!\n"
     ]
    }
   ],
   "source": [
    "print(\"youuuuuuu!neeeeeeeeed!coooooooooooooooookiiiiiiiiiiiieeeeeeeeeeeeeeeeeeeees!!!!!!!!!!!!!!!!!!!!!!!!!!!!!!!!!!!!!!!!!!!!!!!!!!!!!!!!!!!!!!!!!!!!!!!!!!!!!!!!!!!!!!!!!!!!!!!!!!!!!!!!!!!!!!!!!!!!!!!!!!!!!!!!!!!!!!!!!!!!!!!!!!!!!!!!!!!!!!!!!!!!!!!!!!!!!!!!!!!!!!!!!!!!!!!!!!!!!!!!!!!!!!!!!!!!!!!!!!!!!!!!!!!!!!!!!!!!!!!!!!!!!!!!!!!!!!!!!!!!!!!!!!!!!!!!!!!!!!!!!!!!!!!!!!!!!!!!!!!!!!!!!!!!!!!!!!!!!!!!!!!!!!!!!!!!!!!!!!!!!!!!!!!!!!!!!!!!!!!!!!!!!!!!!!!!!!!!!!!!!!!!!!!!!!!!!!!!!!!!!!!!!!!!!!!!!!!!!!!!!!!!!!!!!!!!!!!!!!!!!!!!!!!!!!!!!!!!!!!!!!!!!!!!!!!!!!!!!!!!!!!!!!!!!!!!!!!!!!!!!!!!!!!!!!!!!!!!!!!!!!!!!!!!!!!!!!!!!!!!!!!!!!!!\")"
   ]
  },
  {
   "cell_type": "code",
   "execution_count": 17,
   "id": "643e7791",
   "metadata": {},
   "outputs": [
    {
     "name": "stdout",
     "output_type": "stream",
     "text": [
      "8437rujr8r94385437ujmheurkjfeikfueriuierueir83wu493859\n"
     ]
    }
   ],
   "source": [
    "print(\"8437rujr8r94385437ujmheurkjfeikfueriuierueir83wu493859\")"
   ]
  },
  {
   "cell_type": "code",
   "execution_count": 18,
   "id": "0a7111ce",
   "metadata": {},
   "outputs": [
    {
     "name": "stdout",
     "output_type": "stream",
     "text": [
      "dad i love you so much!! love oskar\n"
     ]
    }
   ],
   "source": [
    "print(\"dad i love you so much!! love oskar\")"
   ]
  },
  {
   "cell_type": "code",
   "execution_count": 20,
   "id": "3189d84b",
   "metadata": {},
   "outputs": [
    {
     "name": "stdout",
     "output_type": "stream",
     "text": [
      "type somethinguidfhnbhu\n",
      "uidfhnbhu is a stupid thing to wright\n"
     ]
    }
   ],
   "source": [
    "banana=input(\"type something\")\n",
    "print(banana, \"is a stupid thing to wright\")"
   ]
  }
 ],
 "metadata": {
  "kernelspec": {
   "display_name": "Python 3 (ipykernel)",
   "language": "python",
   "name": "python3"
  },
  "language_info": {
   "codemirror_mode": {
    "name": "ipython",
    "version": 3
   },
   "file_extension": ".py",
   "mimetype": "text/x-python",
   "name": "python",
   "nbconvert_exporter": "python",
   "pygments_lexer": "ipython3",
   "version": "3.9.13"
  }
 },
 "nbformat": 4,
 "nbformat_minor": 5
}
