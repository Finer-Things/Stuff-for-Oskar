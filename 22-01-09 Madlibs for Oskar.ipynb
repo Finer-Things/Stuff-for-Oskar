{
 "cells": [
  {
   "cell_type": "code",
   "execution_count": 1,
   "id": "52d7f08a",
   "metadata": {},
   "outputs": [],
   "source": [
    "ing_verb = \"throwing\"\n",
    "noun_place = \"kitchen\"\n",
    "adjective = \"sharp\"\n",
    "noun_object = \"banana\"\n",
    "verb = \"played\" #past tense\n",
    "adjective_5 = \"cold\"\n",
    "verb_2 = \"shoot\"\n",
    "verb_3 = \"peeled\" #past tense\n",
    "adjective_2 = \"hot\"\n",
    "adjective_3 = \"freezing cold\"\n",
    "noun_place_2 = \"bathroom\"\n",
    "adjective_4 = \"tiny\"\n",
    "noun_object_3 = \"poop\""
   ]
  },
  {
   "cell_type": "code",
   "execution_count": 7,
   "id": "97cc5383",
   "metadata": {},
   "outputs": [
    {
     "name": "stdout",
     "output_type": "stream",
     "text": [
      "I was throwing through the kitchen one day and saw a blue cup lying on the ground.\n",
      "I picked it up and shove it.\n",
      "Because it was cold, it seemed like it would be fun to push.\n",
      "So I drive the brown, freezing cold cup into the bathroom and it landed on a tiny poop.\n"
     ]
    }
   ],
   "source": [
    "print(f\"\"\"I was {ing_verb} through the {noun_place} one day and saw a {adjective} {noun_object} lying on the ground.\n",
    "I picked it up and {verb} it.\n",
    "Because it was {adjective_5}, it seemed like it would be fun to {verb_2}.\n",
    "So I {verb_3} the {adjective_2}, {adjective_3} {noun_object} into the {noun_place_2} and it landed on a {adjective_4} {noun_object_3}.\"\"\")"
   ]
  },
  {
   "cell_type": "code",
   "execution_count": null,
   "id": "519c56fe",
   "metadata": {},
   "outputs": [],
   "source": []
  },
  {
   "cell_type": "code",
   "execution_count": null,
   "id": "f7b66da9",
   "metadata": {},
   "outputs": [],
   "source": []
  },
  {
   "cell_type": "code",
   "execution_count": null,
   "id": "84812ad7",
   "metadata": {},
   "outputs": [],
   "source": []
  },
  {
   "cell_type": "markdown",
   "id": "e85b380b",
   "metadata": {},
   "source": [
    "Original Version\n",
    "I was walking through the park one day and saw a blue ball lying on the ground. \n",
    "I picked it up and studied it. \n",
    "Because it was light, it seemed like it would be fun to throw. \n",
    "So I threw the big, blue ball into the sky and it landed on a toy house. "
   ]
  },
  {
   "cell_type": "code",
   "execution_count": 11,
   "id": "7a25153c",
   "metadata": {},
   "outputs": [],
   "source": [
    "verb_ing = \"sitting\"\n",
    "noun_place = \"kitchen\"\n",
    "adjective = \"blue\"\n",
    "noun_object = \"cup\"\n",
    "verb_past = \"cooled\"\n",
    "verb = \"shove\"\n",
    "adjective_2 = \"brown\"\n",
    "verb_2 = \"push\"\n",
    "noun = \"seat\"\n",
    "verb_3 = \"drive\"\n",
    "noun_person = \"mommy\"\n",
    "verb_4 = \"blasted\"\n",
    "verb_past_2 = \"slipped\"\n",
    "verb_5 = \"punched\"\n",
    "noun_2 = \"fart\""
   ]
  },
  {
   "cell_type": "code",
   "execution_count": 1,
   "id": "36863b36-3c03-4801-892f-ad3237548e9b",
   "metadata": {},
   "outputs": [],
   "source": [
    "verb_ing = \"throwing\"\n",
    "noun_place = \"Natural History Museum\"\n",
    "adjective = \"smelly\"\n",
    "noun_object = \"cup\"\n",
    "verb_past = \"burned\"\n",
    "verb = \"shove\"\n",
    "adjective_2 = \"brown\"\n",
    "verb_2 = \"push\"\n",
    "noun = \"seat\"\n",
    "verb_3 = \"drive\"\n",
    "noun_person = \"mommy\"\n",
    "verb_4 = \"blasted\"\n",
    "verb_past_2 = \"slipped\"\n",
    "verb_5 = \"punched\"\n",
    "noun_2 = \"fart\""
   ]
  },
  {
   "cell_type": "code",
   "execution_count": 4,
   "id": "c0b3b937",
   "metadata": {},
   "outputs": [
    {
     "name": "stdout",
     "output_type": "stream",
     "text": [
      "I was throwing on the Natural History Museum when I saw a smelly cup.\n",
      "I burned it would shove brown to push.\n",
      "But then a seat tried to drive it from mommy.\n",
      "Then I blasted and the seat got slipped in his fart and punched away.\n"
     ]
    }
   ],
   "source": [
    "print(f\"\"\"I was {verb_ing} on the {noun_place} when I saw a {adjective} {noun_object}.\n",
    "I {verb_past} it would {verb} {adjective_2} to {verb_2}.\n",
    "But then a {noun} tried to {verb_3} it from {noun_person}.\n",
    "Then I {verb_4} and the {noun} got {verb_past_2} in his {noun_2} and {verb_5} away.\"\"\")"
   ]
  },
  {
   "cell_type": "code",
   "execution_count": null,
   "id": "3d2c13cb",
   "metadata": {},
   "outputs": [],
   "source": [
    "Oskar's Story (Original)\n",
    "I was sitting on the playground when I saw a little ball. \n",
    "I thought it would be fun to bounce. \n",
    "But then a bully tried to take it from me. \n",
    "Then I screamed and the bully got hurt in his ears and ran away. "
   ]
  },
  {
   "cell_type": "markdown",
   "id": "fe0062bb",
   "metadata": {},
   "source": [
    "## Version 3"
   ]
  },
  {
   "cell_type": "code",
   "execution_count": 10,
   "id": "0c991a6c",
   "metadata": {},
   "outputs": [],
   "source": [
    "# jumping\n",
    "verb_1 = \"pooping\"\n",
    "# trampoline\n",
    "noun_1 = \"beach\"\n",
    "# saw\n",
    "verb_2 = \"punched\"\n",
    "# ball\n",
    "noun_2 = \"Luna\"\n",
    "# fun\n",
    "noun_3 = \"banana\"\n",
    "# bounced\n",
    "verb__3 = \"looked\"\n",
    "# picked up\n",
    "verb_3 = \"made\"\n",
    "# played\n",
    "verb_4 = \"ate\""
   ]
  },
  {
   "cell_type": "markdown",
   "id": "b3a540cd",
   "metadata": {},
   "source": [
    "### Original Story\n",
    "I was jumping on the trampoline when I saw a ball. I knew I would have fun if I bounced the ball, so I picked up the ball and played with it. "
   ]
  },
  {
   "cell_type": "code",
   "execution_count": 16,
   "id": "b224fc2f",
   "metadata": {},
   "outputs": [
    {
     "name": "stdout",
     "output_type": "stream",
     "text": [
      "I was pooping on the beach when I punched a Luna. I knew I would have banana if I \n",
      "looked the Luna, so I made the Luna and ate with it.\n"
     ]
    }
   ],
   "source": [
    "print(f\"\"\"I was {verb_1} on the {noun_1} when I {verb_2} a {noun_2}. I knew I would have {noun_3} if I \n",
    "{verb__3} the {noun_2}, so I {verb_3} the {noun_2} and {verb_4} with it.\"\"\")"
   ]
  },
  {
   "cell_type": "code",
   "execution_count": null,
   "id": "a738954e",
   "metadata": {},
   "outputs": [],
   "source": []
  }
 ],
 "metadata": {
  "kernelspec": {
   "display_name": "Python 3 (ipykernel)",
   "language": "python",
   "name": "python3"
  },
  "language_info": {
   "codemirror_mode": {
    "name": "ipython",
    "version": 3
   },
   "file_extension": ".py",
   "mimetype": "text/x-python",
   "name": "python",
   "nbconvert_exporter": "python",
   "pygments_lexer": "ipython3",
   "version": "3.9.7"
  }
 },
 "nbformat": 4,
 "nbformat_minor": 5
}
