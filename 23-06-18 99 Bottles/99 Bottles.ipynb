{
 "cells": [
  {
   "cell_type": "code",
   "execution_count": 1,
   "metadata": {},
   "outputs": [],
   "source": [
    "from Bottles_Class import *"
   ]
  },
  {
   "cell_type": "code",
   "execution_count": 2,
   "metadata": {},
   "outputs": [],
   "source": [
    "my_song = Song()"
   ]
  },
  {
   "cell_type": "code",
   "execution_count": 3,
   "metadata": {},
   "outputs": [
    {
     "name": "stdout",
     "output_type": "stream",
     "text": [
      "99 bottles of sparkling water on the wall, 99 bottles of sparkling water. \n",
      " Take one down, pass it around, 98 bottles of sparkling water on the wall\n"
     ]
    }
   ],
   "source": [
    "my_song.sing_line()"
   ]
  },
  {
   "cell_type": "code",
   "execution_count": 20,
   "metadata": {},
   "outputs": [
    {
     "name": "stdout",
     "output_type": "stream",
     "text": [
      "66 bottles of sparkling water on the wall, 66 bottles of sparkling water. \n",
      " Take one down, pass it around, 65 bottles of sparkling water on the wall\n",
      "65 bottles of sparkling water on the wall, 65 bottles of sparkling water. \n",
      " Take one down, pass it around, 64 bottles of sparkling water on the wall\n",
      "64 bottles of sparkling water on the wall, 64 bottles of sparkling water. \n",
      " Take one down, pass it around, 63 bottles of sparkling water on the wall\n",
      "63 bottles of sparkling water on the wall, 63 bottles of sparkling water. \n",
      " Take one down, pass it around, 62 bottles of sparkling water on the wall\n",
      "62 bottles of sparkling water on the wall, 62 bottles of sparkling water. \n",
      " Take one down, pass it around, 61 bottles of sparkling water on the wall\n",
      "61 bottles of sparkling water on the wall, 61 bottles of sparkling water. \n",
      " Take one down, pass it around, 60 bottles of sparkling water on the wall\n",
      "60 bottles of sparkling water on the wall, 60 bottles of sparkling water. \n",
      " Take one down, pass it around, 59 bottles of sparkling water on the wall\n",
      "59 bottles of sparkling water on the wall, 59 bottles of sparkling water. \n",
      " Take one down, pass it around, 58 bottles of sparkling water on the wall\n",
      "58 bottles of sparkling water on the wall, 58 bottles of sparkling water. \n",
      " Take one down, pass it around, 57 bottles of sparkling water on the wall\n",
      "57 bottles of sparkling water on the wall, 57 bottles of sparkling water. \n",
      " Take one down, pass it around, 56 bottles of sparkling water on the wall\n",
      "56 bottles of sparkling water on the wall, 56 bottles of sparkling water. \n",
      " Take one down, pass it around, 55 bottles of sparkling water on the wall\n",
      "55 bottles of sparkling water on the wall, 55 bottles of sparkling water. \n",
      " Take one down, pass it around, 54 bottles of sparkling water on the wall\n",
      "54 bottles of sparkling water on the wall, 54 bottles of sparkling water. \n",
      " Take one down, pass it around, 53 bottles of sparkling water on the wall\n",
      "53 bottles of sparkling water on the wall, 53 bottles of sparkling water. \n",
      " Take one down, pass it around, 52 bottles of sparkling water on the wall\n"
     ]
    }
   ],
   "source": [
    "for i in range(14):\n",
    "    my_song.sing_line()"
   ]
  }
 ],
 "metadata": {
  "kernelspec": {
   "display_name": "Python 3",
   "language": "python",
   "name": "python3"
  },
  "language_info": {
   "codemirror_mode": {
    "name": "ipython",
    "version": 3
   },
   "file_extension": ".py",
   "mimetype": "text/x-python",
   "name": "python",
   "nbconvert_exporter": "python",
   "pygments_lexer": "ipython3",
   "version": "3.11.3"
  },
  "orig_nbformat": 4
 },
 "nbformat": 4,
 "nbformat_minor": 2
}
