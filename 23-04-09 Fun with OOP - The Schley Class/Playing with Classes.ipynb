{
 "cells": [
  {
   "cell_type": "code",
   "execution_count": 1,
   "id": "a6e9af14",
   "metadata": {},
   "outputs": [],
   "source": [
    "from Classy import *"
   ]
  },
  {
   "cell_type": "code",
   "execution_count": 2,
   "id": "5acea1c5",
   "metadata": {},
   "outputs": [],
   "source": [
    "oskar = Schley(\"Oskar\", \"BLUE 42!\", 9, \"Oskar the Bosker\")"
   ]
  },
  {
   "cell_type": "code",
   "execution_count": 3,
   "id": "95c1d91b",
   "metadata": {},
   "outputs": [
    {
     "name": "stdout",
     "output_type": "stream",
     "text": [
      "Oskar\n"
     ]
    }
   ],
   "source": [
    "print(oskar.name)"
   ]
  },
  {
   "cell_type": "code",
   "execution_count": 4,
   "id": "ec3d4d94",
   "metadata": {},
   "outputs": [
    {
     "name": "stdout",
     "output_type": "stream",
     "text": [
      "BLUE 42!\n"
     ]
    }
   ],
   "source": [
    "print(oskar.secret_code)"
   ]
  },
  {
   "cell_type": "code",
   "execution_count": 5,
   "id": "4cb11f4c",
   "metadata": {
    "scrolled": true
   },
   "outputs": [
    {
     "name": "stdout",
     "output_type": "stream",
     "text": [
      "Hi, my name is Oskar.\n",
      "My secret code is \"BLUE 42!\", \n",
      "and I am 9 years old.\n"
     ]
    }
   ],
   "source": [
    "oskar.talk()"
   ]
  },
  {
   "cell_type": "code",
   "execution_count": 6,
   "id": "ab09e515",
   "metadata": {},
   "outputs": [
    {
     "name": "stdout",
     "output_type": "stream",
     "text": [
      "Hi, my name is Oskar.\n",
      "My secret code is \"BLUE 42!\", \n",
      "and I am 9 years old.\n"
     ]
    }
   ],
   "source": [
    "oskar.talk()"
   ]
  },
  {
   "cell_type": "code",
   "execution_count": 7,
   "id": "4d47cb6e",
   "metadata": {},
   "outputs": [
    {
     "name": "stdout",
     "output_type": "stream",
     "text": [
      "Poopy pants!!!!!!\n"
     ]
    }
   ],
   "source": [
    "oskar.talk()"
   ]
  },
  {
   "cell_type": "code",
   "execution_count": 8,
   "id": "bd5162d3",
   "metadata": {},
   "outputs": [
    {
     "name": "stdout",
     "output_type": "stream",
     "text": [
      "***drum roll!***\n",
      "5\n",
      "4\n",
      "3\n",
      "2\n",
      "1\n",
      "Chuck bo buck\n",
      "banana fanna fo...?!\n",
      "Hey!\n",
      "You can't use Chuck!\n"
     ]
    }
   ],
   "source": [
    "oskar.banana(\"Chuck\")"
   ]
  }
 ],
 "metadata": {
  "kernelspec": {
   "display_name": "Python 3 (ipykernel)",
   "language": "python",
   "name": "python3"
  },
  "language_info": {
   "codemirror_mode": {
    "name": "ipython",
    "version": 3
   },
   "file_extension": ".py",
   "mimetype": "text/x-python",
   "name": "python",
   "nbconvert_exporter": "python",
   "pygments_lexer": "ipython3",
   "version": "3.9.7"
  }
 },
 "nbformat": 4,
 "nbformat_minor": 5
}
