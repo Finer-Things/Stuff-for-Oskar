{
 "cells": [
  {
   "cell_type": "markdown",
   "id": "8af1ce15-8ec7-4337-9d0f-003ed993510b",
   "metadata": {
    "tags": []
   },
   "source": [
    "## Making the colors work"
   ]
  },
  {
   "cell_type": "code",
   "execution_count": 2,
   "id": "8cf09a35",
   "metadata": {},
   "outputs": [
    {
     "name": "stdout",
     "output_type": "stream",
     "text": [
      "\u001b[38;2;255;0;0mHello, World \u001b[38;2;255;255;255m\n",
      "\u001b[38;2;0;0;255mHello, World \u001b[38;2;255;255;255m\n",
      "\u001b[38;2;0;0;0m7 \u001b[38;2;255;255;255m\n"
     ]
    }
   ],
   "source": [
    "def colored(r, g, b, text):\n",
    "    return \"\\033[38;2;{};{};{}m{} \\033[38;2;255;255;255m\".format(r, g, b, text)\n",
    "\n",
    "# def colored(r, g, b, text):\n",
    "#     return \"\\033[38;2;{};{};{}m{} \\033[38;2;255;255;255m\".format(r, g, b, text)\n",
    "\n",
    "\n",
    "text = 'Hello, World'\n",
    "colored_text = colored(255, 0, 0, text)\n",
    "print(colored_text)\n",
    "\n",
    "#or\n",
    "\n",
    "print(colored(0, 0, 255, 'Hello, World'))\n",
    "print(colored(0,0,0, 7))"
   ]
  },
  {
   "cell_type": "code",
   "execution_count": 7,
   "id": "46707d41-35f8-45f1-ad87-448c38019c8b",
   "metadata": {},
   "outputs": [
    {
     "name": "stdout",
     "output_type": "stream",
     "text": [
      "\u001b[38;2;255;255;0mHello, World \u001b[38;2;255;255;255m\n",
      "\u001b[38;2;0;0;255mH \u001b[38;2;255;255;255m\n"
     ]
    }
   ],
   "source": [
    "print(colored(255, 255, 0, 'Hello, World'))\n",
    "print(colored(0,0,255,\"H\"))"
   ]
  },
  {
   "cell_type": "code",
   "execution_count": 2,
   "id": "1d7b5e9f",
   "metadata": {},
   "outputs": [
    {
     "name": "stdout",
     "output_type": "stream",
     "text": [
      "\u001b[38;2;3;175;255m2 \u001b[38;2;255;255;255m \u001b[38;2;3;175;255m4 \u001b[38;2;255;255;255m \u001b[38;2;3;175;255m8 \u001b[38;2;255;255;255m\n",
      "\u001b[38;2;255;0;0m3 \u001b[38;2;255;255;255m \u001b[38;2;255;0;0m9 \u001b[38;2;255;255;255m\n"
     ]
    }
   ],
   "source": [
    "def blue(text):\n",
    "    return colored(3,175,255, text)\n",
    "print(blue(2), blue(4), blue(8))\n",
    "\n",
    "def red(text):\n",
    "    return colored(255, 0, 0, text)\n",
    "print(red(3), red(9))"
   ]
  },
  {
   "cell_type": "code",
   "execution_count": 3,
   "id": "3db107f5",
   "metadata": {},
   "outputs": [
    {
     "name": "stdout",
     "output_type": "stream",
     "text": [
      "\u001b[38;2;255;0;255m7 \u001b[38;2;255;255;255m \u001b[38;2;0;255;255m8 \u001b[38;2;255;255;255m\n"
     ]
    }
   ],
   "source": [
    "print(colored(255,0,255, 7), colored(0, 255, 255, 8))"
   ]
  },
  {
   "cell_type": "code",
   "execution_count": 4,
   "id": "bbb327e8",
   "metadata": {},
   "outputs": [
    {
     "name": "stdout",
     "output_type": "stream",
     "text": [
      "\u001b[38;2;3;175;255m2 \u001b[38;2;255;255;255m\n",
      "2\n"
     ]
    }
   ],
   "source": [
    "#one = colored(0,0,0,1)\n",
    "#print(one)\n",
    "print(colored(3,175,255, 2))\n",
    "print(2)"
   ]
  },
  {
   "cell_type": "code",
   "execution_count": 5,
   "id": "c5d824e4",
   "metadata": {},
   "outputs": [
    {
     "name": "stdout",
     "output_type": "stream",
     "text": [
      "2\n"
     ]
    }
   ],
   "source": [
    "two = colored(3,37,126, 2)\n",
    "print(2)"
   ]
  },
  {
   "cell_type": "code",
   "execution_count": 6,
   "id": "6015cd7d",
   "metadata": {},
   "outputs": [
    {
     "data": {
      "text/plain": [
       "<function print>"
      ]
     },
     "execution_count": 6,
     "metadata": {},
     "output_type": "execute_result"
    }
   ],
   "source": [
    "print"
   ]
  },
  {
   "cell_type": "code",
   "execution_count": null,
   "id": "e2867db2-5a21-424b-a699-3f433496f0b9",
   "metadata": {},
   "outputs": [],
   "source": []
  },
  {
   "cell_type": "markdown",
   "id": "16eb07d5-b5a6-4424-a485-c026c93b945d",
   "metadata": {},
   "source": [
    "## Another Test\n"
   ]
  },
  {
   "cell_type": "markdown",
   "id": "099e72b3-500a-4f46-9f0d-5e77c8b95fe6",
   "metadata": {},
   "source": [
    "Text properties\n",
    "Text colors:\n",
    "\n",
    "grey\n",
    "red\n",
    "green\n",
    "yellow\n",
    "blue\n",
    "magenta\n",
    "cyan\n",
    "white\n",
    "Text highlights:\n",
    "\n",
    "on_grey\n",
    "on_red\n",
    "on_green\n",
    "on_yellow\n",
    "on_blue\n",
    "on_magenta\n",
    "on_cyan\n",
    "on_white\n",
    "Attributes:\n",
    "\n",
    "bold\n",
    "dark\n",
    "underline\n",
    "blink\n",
    "reverse\n",
    "concealed"
   ]
  },
  {
   "cell_type": "code",
   "execution_count": 8,
   "id": "f49d1d3b-135f-489c-8548-0c062a652cba",
   "metadata": {},
   "outputs": [
    {
     "name": "stdout",
     "output_type": "stream",
     "text": [
      "\u001b[5m\u001b[7m\u001b[31mHello, World!\u001b[0m\n",
      "\u001b[31mStuff\u001b[0m\n"
     ]
    }
   ],
   "source": [
    "from termcolor import colored\n",
    "from termcolor import cprint\n",
    "  \n",
    "text = colored('Hello, World!', 'red', attrs=['reverse', 'blink'])\n",
    "print(text)\n",
    "cprint(\"Stuff\", \"red\")"
   ]
  },
  {
   "cell_type": "code",
   "execution_count": 12,
   "id": "f7c9da00-4f86-45a8-ae79-000748d86edd",
   "metadata": {},
   "outputs": [
    {
     "name": "stdout",
     "output_type": "stream",
     "text": [
      "\u001b[34m[2, 4, 8, 16, 32, 64]\u001b[0m\n",
      "\u001b[31m[3, 9, 27, 81]\u001b[0m\n",
      "\u001b[35m[6, 12, 18, 24, 36, 48]\u001b[0m\n"
     ]
    }
   ],
   "source": [
    "cprint([2,4,8,16,32,64], \"blue\")\n",
    "cprint([3,9,27,81], \"red\")\n",
    "cprint([6, 12, 18, 24, 36, 48], \"magenta\")"
   ]
  },
  {
   "cell_type": "code",
   "execution_count": 13,
   "id": "222a450e-127c-49ca-8faf-f43d6cde2045",
   "metadata": {},
   "outputs": [
    {
     "name": "stdout",
     "output_type": "stream",
     "text": [
      "\u001b[36m5\u001b[0m\n"
     ]
    }
   ],
   "source": [
    "cprint(\"5\", \"cyan\")"
   ]
  },
  {
   "cell_type": "code",
   "execution_count": null,
   "id": "c6caee99-8c92-4fae-a744-ca76d4f1b44f",
   "metadata": {},
   "outputs": [],
   "source": []
  },
  {
   "cell_type": "code",
   "execution_count": null,
   "id": "57a57bdd-e8b4-4e7c-82a4-526b8e4dcfc0",
   "metadata": {},
   "outputs": [],
   "source": []
  }
 ],
 "metadata": {
  "kernelspec": {
   "display_name": "Python 3 (ipykernel)",
   "language": "python",
   "name": "python3"
  },
  "language_info": {
   "codemirror_mode": {
    "name": "ipython",
    "version": 3
   },
   "file_extension": ".py",
   "mimetype": "text/x-python",
   "name": "python",
   "nbconvert_exporter": "python",
   "pygments_lexer": "ipython3",
   "version": "3.9.7"
  }
 },
 "nbformat": 4,
 "nbformat_minor": 5
}
